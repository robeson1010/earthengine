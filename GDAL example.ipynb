{
 "cells": [
  {
   "cell_type": "markdown",
   "metadata": {
    "deletable": true,
    "editable": true
   },
   "source": [
    "# GDAL/OGR example using shapefile\n",
    "see http://pcjericks.github.io/py-gdalogr-cookbook/"
   ]
  },
  {
   "cell_type": "code",
   "execution_count": 2,
   "metadata": {
    "collapsed": true,
    "deletable": true,
    "editable": true
   },
   "outputs": [],
   "source": [
    "import os\n",
    "import ogr"
   ]
  },
  {
   "cell_type": "code",
   "execution_count": 3,
   "metadata": {
    "collapsed": false,
    "deletable": true,
    "editable": true
   },
   "outputs": [
    {
     "name": "stdout",
     "output_type": "stream",
     "text": [
      "<osgeo.ogr.Driver; proxy of <Swig Object of type 'OGRDriverShadow *' at 0x106f4f900> >\n"
     ]
    }
   ],
   "source": [
    "driver_name = 'ESRI Shapefile'\n",
    "# driver_name = 'FileGDB'\n",
    "driver = ogr.GetDriverByName(driver_name)\n",
    "print driver"
   ]
  },
  {
   "cell_type": "code",
   "execution_count": 4,
   "metadata": {
    "collapsed": false,
    "deletable": true,
    "editable": true
   },
   "outputs": [
    {
     "name": "stdout",
     "output_type": "stream",
     "text": [
      "True\n"
     ]
    }
   ],
   "source": [
    "this_file_directory = os.path.dirname(os.path.realpath('__file__'))\n",
    "shapefile_path = os.path.join(this_file_directory, 'CA_counties', 'CA_counties.shp')\n",
    "print os.path.isfile(shapefile_path)"
   ]
  },
  {
   "cell_type": "code",
   "execution_count": 5,
   "metadata": {
    "collapsed": true,
    "deletable": true,
    "editable": true
   },
   "outputs": [],
   "source": [
    "ds = driver.Open(shapefile_path)"
   ]
  },
  {
   "cell_type": "code",
   "execution_count": 6,
   "metadata": {
    "collapsed": false,
    "deletable": true,
    "editable": true
   },
   "outputs": [],
   "source": [
    "# dir(ds)"
   ]
  },
  {
   "cell_type": "code",
   "execution_count": 7,
   "metadata": {
    "collapsed": false,
    "deletable": true,
    "editable": true
   },
   "outputs": [
    {
     "name": "stdout",
     "output_type": "stream",
     "text": [
      "<osgeo.ogr.Layer; proxy of <Swig Object of type 'OGRLayerShadow *' at 0x106f4fd80> >\n"
     ]
    }
   ],
   "source": [
    "layer = ds.GetLayer(0)\n",
    "print layer"
   ]
  },
  {
   "cell_type": "code",
   "execution_count": 9,
   "metadata": {
    "collapsed": false,
    "deletable": true,
    "editable": true
   },
   "outputs": [
    {
     "name": "stdout",
     "output_type": "stream",
     "text": [
      "['AlterFieldDefn', 'Clip', 'CommitTransaction', 'CreateFeature', 'CreateField', 'CreateFields', 'CreateGeomField', 'DeleteFeature', 'DeleteField', 'Dereference', 'Erase', 'FindFieldIndex', 'GetExtent', 'GetFIDColumn', 'GetFeature', 'GetFeatureCount', 'GetFeaturesRead', 'GetGeomType', 'GetGeometryColumn', 'GetLayerDefn', 'GetName', 'GetNextFeature', 'GetRefCount', 'GetSpatialFilter', 'GetSpatialRef', 'GetStyleTable', 'Identity', 'Intersection', 'Reference', 'ReorderField', 'ReorderFields', 'ResetReading', 'RollbackTransaction', 'SetAttributeFilter', 'SetFeature', 'SetIgnoredFields', 'SetNextByIndex', 'SetSpatialFilter', 'SetSpatialFilterRect', 'SetStyleTable', 'StartTransaction', 'SymDifference', 'SyncToDisk', 'TestCapability', 'Union', 'Update', '__bool__', '__class__', '__delattr__', '__dict__', '__doc__', '__format__', '__getattr__', '__getattribute__', '__getitem__', '__hash__', '__init__', '__iter__', '__len__', '__module__', '__new__', '__nonzero__', '__reduce__', '__reduce_ex__', '__repr__', '__setattr__', '__sizeof__', '__str__', '__subclasshook__', '__swig_getmethods__', '__swig_setmethods__', '__weakref__', 'next', 'schema', 'this']\n"
     ]
    }
   ],
   "source": [
    "print dir(layer)"
   ]
  },
  {
   "cell_type": "code",
   "execution_count": 10,
   "metadata": {
    "collapsed": false,
    "deletable": true,
    "editable": true
   },
   "outputs": [
    {
     "data": {
      "text/plain": [
       "58"
      ]
     },
     "execution_count": 10,
     "metadata": {},
     "output_type": "execute_result"
    }
   ],
   "source": [
    "layer.GetFeatureCount()"
   ]
  },
  {
   "cell_type": "code",
   "execution_count": 49,
   "metadata": {
    "collapsed": false
   },
   "outputs": [
    {
     "name": "stdout",
     "output_type": "stream",
     "text": [
      "{ \"type\": \"Polygon\", \"coordinates\": [ [ [ -118.360586, 36.744773 ], [ -118.100317, 36.346137 ], [ -118.008043, 35.789161 ], [ -119.538116, 35.789567 ], [ -119.556848, 36.503381 ], [ -118.982441, 36.741646 ], [ -118.360586, 36.744773 ] ] ] }\n"
     ]
    },
    {
     "data": {
      "text/plain": [
       "['AddGeometry',\n",
       " 'AddGeometryDirectly',\n",
       " 'AddPoint',\n",
       " 'AddPoint_2D',\n",
       " 'Area',\n",
       " 'AssignSpatialReference',\n",
       " 'Boundary',\n",
       " 'Buffer',\n",
       " 'Centroid',\n",
       " 'Clone',\n",
       " 'CloseRings',\n",
       " 'Contains',\n",
       " 'ConvexHull',\n",
       " 'Crosses',\n",
       " 'Destroy',\n",
       " 'Difference',\n",
       " 'Disjoint',\n",
       " 'Distance',\n",
       " 'Empty',\n",
       " 'Equal',\n",
       " 'Equals',\n",
       " 'ExportToGML',\n",
       " 'ExportToJson',\n",
       " 'ExportToKML',\n",
       " 'ExportToWkb',\n",
       " 'ExportToWkt',\n",
       " 'FlattenTo2D',\n",
       " 'GetArea',\n",
       " 'GetBoundary',\n",
       " 'GetCoordinateDimension',\n",
       " 'GetDimension',\n",
       " 'GetEnvelope',\n",
       " 'GetEnvelope3D',\n",
       " 'GetGeometryCount',\n",
       " 'GetGeometryName',\n",
       " 'GetGeometryRef',\n",
       " 'GetGeometryType',\n",
       " 'GetPoint',\n",
       " 'GetPointCount',\n",
       " 'GetPoint_2D',\n",
       " 'GetPoints',\n",
       " 'GetSpatialReference',\n",
       " 'GetX',\n",
       " 'GetY',\n",
       " 'GetZ',\n",
       " 'Intersect',\n",
       " 'Intersection',\n",
       " 'Intersects',\n",
       " 'IsEmpty',\n",
       " 'IsRing',\n",
       " 'IsSimple',\n",
       " 'IsValid',\n",
       " 'Length',\n",
       " 'Overlaps',\n",
       " 'PointOnSurface',\n",
       " 'Segmentize',\n",
       " 'SetCoordinateDimension',\n",
       " 'SetPoint',\n",
       " 'SetPoint_2D',\n",
       " 'Simplify',\n",
       " 'SimplifyPreserveTopology',\n",
       " 'SymDifference',\n",
       " 'SymmetricDifference',\n",
       " 'Touches',\n",
       " 'Transform',\n",
       " 'TransformTo',\n",
       " 'Union',\n",
       " 'UnionCascaded',\n",
       " 'Within',\n",
       " 'WkbSize',\n",
       " '__class__',\n",
       " '__del__',\n",
       " '__delattr__',\n",
       " '__dict__',\n",
       " '__doc__',\n",
       " '__format__',\n",
       " '__getattr__',\n",
       " '__getattribute__',\n",
       " '__hash__',\n",
       " '__init__',\n",
       " '__iter__',\n",
       " '__module__',\n",
       " '__new__',\n",
       " '__reduce__',\n",
       " '__reduce_ex__',\n",
       " '__repr__',\n",
       " '__setattr__',\n",
       " '__setstate__',\n",
       " '__sizeof__',\n",
       " '__str__',\n",
       " '__subclasshook__',\n",
       " '__swig_destroy__',\n",
       " '__swig_getmethods__',\n",
       " '__swig_setmethods__',\n",
       " '__weakref__',\n",
       " 'next',\n",
       " 'this']"
      ]
     },
     "execution_count": 49,
     "metadata": {},
     "output_type": "execute_result"
    }
   ],
   "source": [
    "feature = layer.GetFeature(0)\n",
    "print feature.GetGeometryRef().Simplify(.1).ExportToJson()\n",
    "dir(feature.GetGeometryRef())"
   ]
  },
  {
   "cell_type": "markdown",
   "metadata": {},
   "source": [
    "The unit for Simplify is tolerance, i.e. the maximal distance a vertex can be pleased from its original location."
   ]
  },
  {
   "cell_type": "code",
   "execution_count": 34,
   "metadata": {
    "collapsed": false,
    "deletable": true,
    "editable": true
   },
   "outputs": [
    {
     "name": "stdout",
     "output_type": "stream",
     "text": [
      "Tulare\n",
      "Calaveras\n",
      "Merced\n",
      "San Luis Obispo\n",
      "Sonoma\n",
      "Marin\n",
      "Humboldt\n",
      "Mono\n",
      "Del Norte\n",
      "Colusa\n",
      "Alameda\n",
      "El Dorado\n",
      "Sutter\n",
      "Kings\n",
      "Sierra\n",
      "Lassen\n",
      "Lake\n",
      "Tehama\n",
      "San Francisco\n",
      "Alpine\n",
      "Madera\n",
      "Sacramento\n",
      "Santa Barbara\n",
      "Plumas\n",
      "Modoc\n",
      "Solano\n",
      "Ventura\n",
      "Santa Cruz\n",
      "Yuba\n",
      "Tuolumne\n",
      "Napa\n",
      "Siskiyou\n",
      "Placer\n",
      "Glenn\n",
      "Trinity\n",
      "Inyo\n",
      "San Benito\n",
      "Monterey\n",
      "San Diego\n",
      "Mariposa\n",
      "Nevada\n",
      "Mendocino\n",
      "Yolo\n",
      "Imperial\n",
      "Stanislaus\n",
      "Kern\n",
      "Contra Costa\n",
      "Fresno\n",
      "Santa Clara\n",
      "San Mateo\n",
      "Butte\n",
      "San Joaquin\n",
      "Amador\n",
      "Shasta\n",
      "Riverside\n",
      "Los Angeles\n",
      "Orange\n",
      "San Bernardino\n"
     ]
    }
   ],
   "source": [
    "for feature in layer:\n",
    "    print feature.name\n",
    "    # feature.ExportToGeoJson()"
   ]
  },
  {
   "cell_type": "code",
   "execution_count": null,
   "metadata": {
    "collapsed": true
   },
   "outputs": [],
   "source": []
  }
 ],
 "metadata": {
  "kernelspec": {
   "display_name": "Python 2",
   "language": "python",
   "name": "python2"
  },
  "language_info": {
   "codemirror_mode": {
    "name": "ipython",
    "version": 2
   },
   "file_extension": ".py",
   "mimetype": "text/x-python",
   "name": "python",
   "nbconvert_exporter": "python",
   "pygments_lexer": "ipython2",
   "version": "2.7.10"
  }
 },
 "nbformat": 4,
 "nbformat_minor": 2
}
